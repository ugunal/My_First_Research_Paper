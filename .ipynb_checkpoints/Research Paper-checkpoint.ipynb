{
 "cells": [
  {
   "cell_type": "code",
   "execution_count": null,
   "metadata": {
    "slideshow": {
     "slide_type": "skip"
    }
   },
   "outputs": [],
   "source": [
    "%run ~/Apps/io_View/embed.ipynb"
   ]
  },
  {
   "cell_type": "markdown",
   "metadata": {
    "slideshow": {
     "slide_type": "slide"
    }
   },
   "source": [
    "**<div class=\"text-center\"><font size=8>Paper Title</font></div>**"
   ]
  },
  {
   "cell_type": "markdown",
   "metadata": {
    "slideshow": {
     "slide_type": "slide"
    }
   },
   "source": [
    "**<div class=\"text-center\"><font size=4>Abstract</font></div>**"
   ]
  },
  {
   "cell_type": "markdown",
   "metadata": {
    "slideshow": {
     "slide_type": "-"
    }
   },
   "source": [
    "<div class=\"text-center\" style=\"padding-left: 6em; padding-right: 7em;\">\n",
    "ajsdkf a;ldfkj akls;dfj kas;fj aerugh ajkhg uiaehuiaerg oifadjg oisetj uae jgi ajsfgio aoig aosm iaof mgaiosfv moafsm v ioafm v amm akfm oiae ajdiof aiog jaeior gjsdfgjksdlv bmkkbldlguaelkfjgmldjkf mio gwpjai fjg oiadfjg aodfo adfo obadfbfadfob mdfoib mdfoib a foidfbm idof aodfigm oisdfm iadfmhio dmahio damf adfogaeorgi jgBNAFDOIjaiof moidf mkhlm \n",
    "</div>"
   ]
  },
  {
   "cell_type": "markdown",
   "metadata": {
    "slideshow": {
     "slide_type": "skip"
    }
   },
   "source": [
    "# Introduction"
   ]
  },
  {
   "cell_type": "markdown",
   "metadata": {
    "slideshow": {
     "slide_type": "skip"
    }
   },
   "source": [
    "ajsdkf a;ldfkj akls;dfj kas;fj aerugh ajkhg uiaehuiaerg oifadjg oisetj uae jgi ajsfgio aoig aosm iaof mgaiosfv moafsm v ioafm v amm akfm oiae ajdiof aiog jaeior gjsdfgjksdlv bmkkbldlguaelkfjgmldjkf mio gwpjai fjg oiadfjg aodfo adfo obadfbfadfob mdfoib mdfoib a foidfbm idof aodfigm oisdfm iadfmhio dmahio damf adfogaeorgi jgBNAFDOIjaiof moidf mkhlm adsf asd"
   ]
  },
  {
   "cell_type": "markdown",
   "metadata": {
    "slideshow": {
     "slide_type": "slide"
    }
   },
   "source": [
    "$$\n",
    "\\text{visitable}(e)=\\begin{cases} \\text{True} & \\text{if}\\quad\\text{departure}(e)-15\\geq\\text{dist}(u)\\quad\\leftarrow\\text{where }e=(u,v)\\\\ \\text{False} & \\quad\\text{otherwise} \\end{cases}\n",
    "$$"
   ]
  },
  {
   "cell_type": "markdown",
   "metadata": {
    "slideshow": {
     "slide_type": "skip"
    }
   },
   "source": [
    "# Something Else"
   ]
  },
  {
   "cell_type": "markdown",
   "metadata": {
    "slideshow": {
     "slide_type": "skip"
    }
   },
   "source": [
    "ajsdkf a;ldfkj akls;dfj kas;fj aerugh ajkhg uiaehuiaerg oifadjg oisetj uae jgi ajsfgio aoig aosm iaof mgaiosfv moafsm v ioafm v amm akfm oiae ajdiof aiog jaeior gjsdfgjksdlv bmkkbldlguaelkfjgmldjkf mio gwpjai fjg oiadfjg aodfo adfo obadfbfadfob mdfoib mdfoib a foidfbm idof aodfigm oisdfm iadfmhio dmahio damf adfogaeorgi jgBNAFDOIjaiof moidf mkhlm "
   ]
  },
  {
   "cell_type": "markdown",
   "metadata": {
    "slideshow": {
     "slide_type": "skip"
    }
   },
   "source": [
    "# Conclusion"
   ]
  },
  {
   "cell_type": "markdown",
   "metadata": {
    "slideshow": {
     "slide_type": "skip"
    }
   },
   "source": [
    "ajsdkf a;ldfkj akls;dfj kas;fj aerugh ajkhg uiaehuiaerg oifadjg oisetj uae jgi ajsfgio aoig aosm iaof mgaiosfv moafsm v ioafm v amm akfm oiae ajdiof aiog jaeior gjsdfgjksdlv bmkkbldlguaelkfjgmldjkf mio gwpjai fjg oiadfjg aodfo adfo obadfbfadfob mdfoib mdfoib a foidfbm idof aodfigm oisdfm iadfmhio dmahio damf adfogaeorgi jgBNAFDOIjaiof moidf mkhlm "
   ]
  }
 ],
 "metadata": {
  "hide_input": false,
  "kernelspec": {
   "display_name": "Python 3",
   "language": "python",
   "name": "python3"
  },
  "language_info": {
   "codemirror_mode": {
    "name": "ipython",
    "version": 3
   },
   "file_extension": ".py",
   "mimetype": "text/x-python",
   "name": "python",
   "nbconvert_exporter": "python",
   "pygments_lexer": "ipython3",
   "version": "3.6.3"
  },
  "toc": {
   "base_numbering": 1,
   "nav_menu": {},
   "number_sections": true,
   "sideBar": true,
   "skip_h1_title": false,
   "title_cell": "Table of Contents",
   "title_sidebar": "Contents",
   "toc_cell": false,
   "toc_position": {},
   "toc_section_display": true,
   "toc_window_display": false
  },
  "varInspector": {
   "cols": {
    "lenName": 16,
    "lenType": 16,
    "lenVar": 40
   },
   "kernels_config": {
    "python": {
     "delete_cmd_postfix": "",
     "delete_cmd_prefix": "del ",
     "library": "var_list.py",
     "varRefreshCmd": "print(var_dic_list())"
    },
    "r": {
     "delete_cmd_postfix": ") ",
     "delete_cmd_prefix": "rm(",
     "library": "var_list.r",
     "varRefreshCmd": "cat(var_dic_list()) "
    }
   },
   "types_to_exclude": [
    "module",
    "function",
    "builtin_function_or_method",
    "instance",
    "_Feature"
   ],
   "window_display": false
  },
  "widgets": {
   "application/vnd.jupyter.widget-state+json": {
    "state": {},
    "version_major": 2,
    "version_minor": 0
   }
  }
 },
 "nbformat": 4,
 "nbformat_minor": 2
}
